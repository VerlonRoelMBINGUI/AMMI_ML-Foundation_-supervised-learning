{
  "cells": [
    {
      "cell_type": "markdown",
      "metadata": {
        "id": "view-in-github",
        "colab_type": "text"
      },
      "source": [
        "<a href=\"https://colab.research.google.com/github/VerlonRoelMBINGUI/AMMI_ML-Foundation_-supervised-learning/blob/main/Verlon_Roel_Mbingui_Perceptron_student.ipynb\" target=\"_parent\"><img src=\"https://colab.research.google.com/assets/colab-badge.svg\" alt=\"Open In Colab\"/></a>"
      ]
    },
    {
      "cell_type": "code",
      "execution_count": null,
      "metadata": {
        "id": "VhoY8C6aa5HT"
      },
      "outputs": [],
      "source": [
        " ### Import packages\n",
        "\n",
        "import numpy as np\n",
        "import matplotlib.pyplot as plt\n",
        "from sklearn.datasets import load_iris"
      ]
    },
    {
      "cell_type": "code",
      "execution_count": null,
      "metadata": {
        "id": "d5HcWRp0a5HX",
        "colab": {
          "base_uri": "https://localhost:8080/"
        },
        "outputId": "98611b33-5f69-48f9-dd8f-76ac3182489b"
      },
      "outputs": [
        {
          "output_type": "execute_result",
          "data": {
            "text/plain": [
              "{'data': array([[5.1, 3.5, 1.4, 0.2],\n",
              "        [4.9, 3. , 1.4, 0.2],\n",
              "        [4.7, 3.2, 1.3, 0.2],\n",
              "        [4.6, 3.1, 1.5, 0.2],\n",
              "        [5. , 3.6, 1.4, 0.2],\n",
              "        [5.4, 3.9, 1.7, 0.4],\n",
              "        [4.6, 3.4, 1.4, 0.3],\n",
              "        [5. , 3.4, 1.5, 0.2],\n",
              "        [4.4, 2.9, 1.4, 0.2],\n",
              "        [4.9, 3.1, 1.5, 0.1],\n",
              "        [5.4, 3.7, 1.5, 0.2],\n",
              "        [4.8, 3.4, 1.6, 0.2],\n",
              "        [4.8, 3. , 1.4, 0.1],\n",
              "        [4.3, 3. , 1.1, 0.1],\n",
              "        [5.8, 4. , 1.2, 0.2],\n",
              "        [5.7, 4.4, 1.5, 0.4],\n",
              "        [5.4, 3.9, 1.3, 0.4],\n",
              "        [5.1, 3.5, 1.4, 0.3],\n",
              "        [5.7, 3.8, 1.7, 0.3],\n",
              "        [5.1, 3.8, 1.5, 0.3],\n",
              "        [5.4, 3.4, 1.7, 0.2],\n",
              "        [5.1, 3.7, 1.5, 0.4],\n",
              "        [4.6, 3.6, 1. , 0.2],\n",
              "        [5.1, 3.3, 1.7, 0.5],\n",
              "        [4.8, 3.4, 1.9, 0.2],\n",
              "        [5. , 3. , 1.6, 0.2],\n",
              "        [5. , 3.4, 1.6, 0.4],\n",
              "        [5.2, 3.5, 1.5, 0.2],\n",
              "        [5.2, 3.4, 1.4, 0.2],\n",
              "        [4.7, 3.2, 1.6, 0.2],\n",
              "        [4.8, 3.1, 1.6, 0.2],\n",
              "        [5.4, 3.4, 1.5, 0.4],\n",
              "        [5.2, 4.1, 1.5, 0.1],\n",
              "        [5.5, 4.2, 1.4, 0.2],\n",
              "        [4.9, 3.1, 1.5, 0.2],\n",
              "        [5. , 3.2, 1.2, 0.2],\n",
              "        [5.5, 3.5, 1.3, 0.2],\n",
              "        [4.9, 3.6, 1.4, 0.1],\n",
              "        [4.4, 3. , 1.3, 0.2],\n",
              "        [5.1, 3.4, 1.5, 0.2],\n",
              "        [5. , 3.5, 1.3, 0.3],\n",
              "        [4.5, 2.3, 1.3, 0.3],\n",
              "        [4.4, 3.2, 1.3, 0.2],\n",
              "        [5. , 3.5, 1.6, 0.6],\n",
              "        [5.1, 3.8, 1.9, 0.4],\n",
              "        [4.8, 3. , 1.4, 0.3],\n",
              "        [5.1, 3.8, 1.6, 0.2],\n",
              "        [4.6, 3.2, 1.4, 0.2],\n",
              "        [5.3, 3.7, 1.5, 0.2],\n",
              "        [5. , 3.3, 1.4, 0.2],\n",
              "        [7. , 3.2, 4.7, 1.4],\n",
              "        [6.4, 3.2, 4.5, 1.5],\n",
              "        [6.9, 3.1, 4.9, 1.5],\n",
              "        [5.5, 2.3, 4. , 1.3],\n",
              "        [6.5, 2.8, 4.6, 1.5],\n",
              "        [5.7, 2.8, 4.5, 1.3],\n",
              "        [6.3, 3.3, 4.7, 1.6],\n",
              "        [4.9, 2.4, 3.3, 1. ],\n",
              "        [6.6, 2.9, 4.6, 1.3],\n",
              "        [5.2, 2.7, 3.9, 1.4],\n",
              "        [5. , 2. , 3.5, 1. ],\n",
              "        [5.9, 3. , 4.2, 1.5],\n",
              "        [6. , 2.2, 4. , 1. ],\n",
              "        [6.1, 2.9, 4.7, 1.4],\n",
              "        [5.6, 2.9, 3.6, 1.3],\n",
              "        [6.7, 3.1, 4.4, 1.4],\n",
              "        [5.6, 3. , 4.5, 1.5],\n",
              "        [5.8, 2.7, 4.1, 1. ],\n",
              "        [6.2, 2.2, 4.5, 1.5],\n",
              "        [5.6, 2.5, 3.9, 1.1],\n",
              "        [5.9, 3.2, 4.8, 1.8],\n",
              "        [6.1, 2.8, 4. , 1.3],\n",
              "        [6.3, 2.5, 4.9, 1.5],\n",
              "        [6.1, 2.8, 4.7, 1.2],\n",
              "        [6.4, 2.9, 4.3, 1.3],\n",
              "        [6.6, 3. , 4.4, 1.4],\n",
              "        [6.8, 2.8, 4.8, 1.4],\n",
              "        [6.7, 3. , 5. , 1.7],\n",
              "        [6. , 2.9, 4.5, 1.5],\n",
              "        [5.7, 2.6, 3.5, 1. ],\n",
              "        [5.5, 2.4, 3.8, 1.1],\n",
              "        [5.5, 2.4, 3.7, 1. ],\n",
              "        [5.8, 2.7, 3.9, 1.2],\n",
              "        [6. , 2.7, 5.1, 1.6],\n",
              "        [5.4, 3. , 4.5, 1.5],\n",
              "        [6. , 3.4, 4.5, 1.6],\n",
              "        [6.7, 3.1, 4.7, 1.5],\n",
              "        [6.3, 2.3, 4.4, 1.3],\n",
              "        [5.6, 3. , 4.1, 1.3],\n",
              "        [5.5, 2.5, 4. , 1.3],\n",
              "        [5.5, 2.6, 4.4, 1.2],\n",
              "        [6.1, 3. , 4.6, 1.4],\n",
              "        [5.8, 2.6, 4. , 1.2],\n",
              "        [5. , 2.3, 3.3, 1. ],\n",
              "        [5.6, 2.7, 4.2, 1.3],\n",
              "        [5.7, 3. , 4.2, 1.2],\n",
              "        [5.7, 2.9, 4.2, 1.3],\n",
              "        [6.2, 2.9, 4.3, 1.3],\n",
              "        [5.1, 2.5, 3. , 1.1],\n",
              "        [5.7, 2.8, 4.1, 1.3],\n",
              "        [6.3, 3.3, 6. , 2.5],\n",
              "        [5.8, 2.7, 5.1, 1.9],\n",
              "        [7.1, 3. , 5.9, 2.1],\n",
              "        [6.3, 2.9, 5.6, 1.8],\n",
              "        [6.5, 3. , 5.8, 2.2],\n",
              "        [7.6, 3. , 6.6, 2.1],\n",
              "        [4.9, 2.5, 4.5, 1.7],\n",
              "        [7.3, 2.9, 6.3, 1.8],\n",
              "        [6.7, 2.5, 5.8, 1.8],\n",
              "        [7.2, 3.6, 6.1, 2.5],\n",
              "        [6.5, 3.2, 5.1, 2. ],\n",
              "        [6.4, 2.7, 5.3, 1.9],\n",
              "        [6.8, 3. , 5.5, 2.1],\n",
              "        [5.7, 2.5, 5. , 2. ],\n",
              "        [5.8, 2.8, 5.1, 2.4],\n",
              "        [6.4, 3.2, 5.3, 2.3],\n",
              "        [6.5, 3. , 5.5, 1.8],\n",
              "        [7.7, 3.8, 6.7, 2.2],\n",
              "        [7.7, 2.6, 6.9, 2.3],\n",
              "        [6. , 2.2, 5. , 1.5],\n",
              "        [6.9, 3.2, 5.7, 2.3],\n",
              "        [5.6, 2.8, 4.9, 2. ],\n",
              "        [7.7, 2.8, 6.7, 2. ],\n",
              "        [6.3, 2.7, 4.9, 1.8],\n",
              "        [6.7, 3.3, 5.7, 2.1],\n",
              "        [7.2, 3.2, 6. , 1.8],\n",
              "        [6.2, 2.8, 4.8, 1.8],\n",
              "        [6.1, 3. , 4.9, 1.8],\n",
              "        [6.4, 2.8, 5.6, 2.1],\n",
              "        [7.2, 3. , 5.8, 1.6],\n",
              "        [7.4, 2.8, 6.1, 1.9],\n",
              "        [7.9, 3.8, 6.4, 2. ],\n",
              "        [6.4, 2.8, 5.6, 2.2],\n",
              "        [6.3, 2.8, 5.1, 1.5],\n",
              "        [6.1, 2.6, 5.6, 1.4],\n",
              "        [7.7, 3. , 6.1, 2.3],\n",
              "        [6.3, 3.4, 5.6, 2.4],\n",
              "        [6.4, 3.1, 5.5, 1.8],\n",
              "        [6. , 3. , 4.8, 1.8],\n",
              "        [6.9, 3.1, 5.4, 2.1],\n",
              "        [6.7, 3.1, 5.6, 2.4],\n",
              "        [6.9, 3.1, 5.1, 2.3],\n",
              "        [5.8, 2.7, 5.1, 1.9],\n",
              "        [6.8, 3.2, 5.9, 2.3],\n",
              "        [6.7, 3.3, 5.7, 2.5],\n",
              "        [6.7, 3. , 5.2, 2.3],\n",
              "        [6.3, 2.5, 5. , 1.9],\n",
              "        [6.5, 3. , 5.2, 2. ],\n",
              "        [6.2, 3.4, 5.4, 2.3],\n",
              "        [5.9, 3. , 5.1, 1.8]]),\n",
              " 'target': array([0, 0, 0, 0, 0, 0, 0, 0, 0, 0, 0, 0, 0, 0, 0, 0, 0, 0, 0, 0, 0, 0,\n",
              "        0, 0, 0, 0, 0, 0, 0, 0, 0, 0, 0, 0, 0, 0, 0, 0, 0, 0, 0, 0, 0, 0,\n",
              "        0, 0, 0, 0, 0, 0, 1, 1, 1, 1, 1, 1, 1, 1, 1, 1, 1, 1, 1, 1, 1, 1,\n",
              "        1, 1, 1, 1, 1, 1, 1, 1, 1, 1, 1, 1, 1, 1, 1, 1, 1, 1, 1, 1, 1, 1,\n",
              "        1, 1, 1, 1, 1, 1, 1, 1, 1, 1, 1, 1, 2, 2, 2, 2, 2, 2, 2, 2, 2, 2,\n",
              "        2, 2, 2, 2, 2, 2, 2, 2, 2, 2, 2, 2, 2, 2, 2, 2, 2, 2, 2, 2, 2, 2,\n",
              "        2, 2, 2, 2, 2, 2, 2, 2, 2, 2, 2, 2, 2, 2, 2, 2, 2, 2]),\n",
              " 'frame': None,\n",
              " 'target_names': array(['setosa', 'versicolor', 'virginica'], dtype='<U10'),\n",
              " 'DESCR': '.. _iris_dataset:\\n\\nIris plants dataset\\n--------------------\\n\\n**Data Set Characteristics:**\\n\\n    :Number of Instances: 150 (50 in each of three classes)\\n    :Number of Attributes: 4 numeric, predictive attributes and the class\\n    :Attribute Information:\\n        - sepal length in cm\\n        - sepal width in cm\\n        - petal length in cm\\n        - petal width in cm\\n        - class:\\n                - Iris-Setosa\\n                - Iris-Versicolour\\n                - Iris-Virginica\\n                \\n    :Summary Statistics:\\n\\n    ============== ==== ==== ======= ===== ====================\\n                    Min  Max   Mean    SD   Class Correlation\\n    ============== ==== ==== ======= ===== ====================\\n    sepal length:   4.3  7.9   5.84   0.83    0.7826\\n    sepal width:    2.0  4.4   3.05   0.43   -0.4194\\n    petal length:   1.0  6.9   3.76   1.76    0.9490  (high!)\\n    petal width:    0.1  2.5   1.20   0.76    0.9565  (high!)\\n    ============== ==== ==== ======= ===== ====================\\n\\n    :Missing Attribute Values: None\\n    :Class Distribution: 33.3% for each of 3 classes.\\n    :Creator: R.A. Fisher\\n    :Donor: Michael Marshall (MARSHALL%PLU@io.arc.nasa.gov)\\n    :Date: July, 1988\\n\\nThe famous Iris database, first used by Sir R.A. Fisher. The dataset is taken\\nfrom Fisher\\'s paper. Note that it\\'s the same as in R, but not as in the UCI\\nMachine Learning Repository, which has two wrong data points.\\n\\nThis is perhaps the best known database to be found in the\\npattern recognition literature.  Fisher\\'s paper is a classic in the field and\\nis referenced frequently to this day.  (See Duda & Hart, for example.)  The\\ndata set contains 3 classes of 50 instances each, where each class refers to a\\ntype of iris plant.  One class is linearly separable from the other 2; the\\nlatter are NOT linearly separable from each other.\\n\\n.. topic:: References\\n\\n   - Fisher, R.A. \"The use of multiple measurements in taxonomic problems\"\\n     Annual Eugenics, 7, Part II, 179-188 (1936); also in \"Contributions to\\n     Mathematical Statistics\" (John Wiley, NY, 1950).\\n   - Duda, R.O., & Hart, P.E. (1973) Pattern Classification and Scene Analysis.\\n     (Q327.D83) John Wiley & Sons.  ISBN 0-471-22361-1.  See page 218.\\n   - Dasarathy, B.V. (1980) \"Nosing Around the Neighborhood: A New System\\n     Structure and Classification Rule for Recognition in Partially Exposed\\n     Environments\".  IEEE Transactions on Pattern Analysis and Machine\\n     Intelligence, Vol. PAMI-2, No. 1, 67-71.\\n   - Gates, G.W. (1972) \"The Reduced Nearest Neighbor Rule\".  IEEE Transactions\\n     on Information Theory, May 1972, 431-433.\\n   - See also: 1988 MLC Proceedings, 54-64.  Cheeseman et al\"s AUTOCLASS II\\n     conceptual clustering system finds 3 classes in the data.\\n   - Many, many more ...',\n",
              " 'feature_names': ['sepal length (cm)',\n",
              "  'sepal width (cm)',\n",
              "  'petal length (cm)',\n",
              "  'petal width (cm)'],\n",
              " 'filename': 'iris.csv',\n",
              " 'data_module': 'sklearn.datasets.data'}"
            ]
          },
          "metadata": {},
          "execution_count": 120
        }
      ],
      "source": [
        "### Import datasets from sklearn.datasets\n",
        "data = load_iris()\n",
        "data"
      ]
    },
    {
      "cell_type": "code",
      "execution_count": null,
      "metadata": {
        "id": "radjgNPta5HX"
      },
      "outputs": [],
      "source": [
        "#### Target \n",
        "\n",
        "target = data.target"
      ]
    },
    {
      "cell_type": "code",
      "execution_count": null,
      "metadata": {
        "id": "b4XAj5Rta5HY"
      },
      "outputs": [],
      "source": [
        "### Count the number of uniques values\n",
        "\n",
        "N_= np.unique(target, return_counts=True)"
      ]
    },
    {
      "cell_type": "code",
      "execution_count": null,
      "metadata": {
        "colab": {
          "base_uri": "https://localhost:8080/"
        },
        "id": "SRvdDUEra5HY",
        "outputId": "1b0af583-af8a-4485-f922-670ca55ce3f3"
      },
      "outputs": [
        {
          "output_type": "stream",
          "name": "stdout",
          "text": [
            "the unique values in the targets are (array([0, 1, 2]), array([50, 50, 50]))\n"
          ]
        }
      ],
      "source": [
        "print('the unique values in the targets are', N_)"
      ]
    },
    {
      "cell_type": "code",
      "execution_count": null,
      "metadata": {
        "colab": {
          "base_uri": "https://localhost:8080/"
        },
        "id": "l4qtWQzna5HZ",
        "outputId": "60b33d50-73a4-435a-c9b0-7e01d74cdc18"
      },
      "outputs": [
        {
          "output_type": "execute_result",
          "data": {
            "text/plain": [
              "(150,)"
            ]
          },
          "metadata": {},
          "execution_count": 124
        }
      ],
      "source": [
        "target.shape"
      ]
    },
    {
      "cell_type": "markdown",
      "source": [
        "## Remove the class 2 in our dataset in order to have a binary classification problem"
      ],
      "metadata": {
        "id": "zRTrdYYvmfmO"
      }
    },
    {
      "cell_type": "code",
      "execution_count": null,
      "metadata": {
        "id": "gOL6z-Qqa5Ha"
      },
      "outputs": [],
      "source": [
        "#### Transforms target to binary classification problem\n",
        "## your code\n",
        "y =  target[target !=2]"
      ]
    },
    {
      "cell_type": "code",
      "execution_count": null,
      "metadata": {
        "id": "QRFOsXyQa5Ha",
        "outputId": "a2ec27b9-5c24-4566-af22-3f45a01e0e98",
        "colab": {
          "base_uri": "https://localhost:8080/"
        }
      },
      "outputs": [
        {
          "output_type": "execute_result",
          "data": {
            "text/plain": [
              "(100,)"
            ]
          },
          "metadata": {},
          "execution_count": 126
        }
      ],
      "source": [
        "y.shape"
      ]
    },
    {
      "cell_type": "markdown",
      "source": [
        "## Replace all 0 in the target by -1 using numpy"
      ],
      "metadata": {
        "id": "oX_AtTDnm_7v"
      }
    },
    {
      "cell_type": "code",
      "execution_count": null,
      "metadata": {
        "id": "dfeM2mVta5Hb"
      },
      "outputs": [],
      "source": [
        "###using np.where\n",
        "y = np.where(y==0,-1,y)"
      ]
    },
    {
      "cell_type": "code",
      "execution_count": null,
      "metadata": {
        "id": "M1g4Vb4za5Hb",
        "outputId": "18ae2ffb-2507-4e39-c678-6bdb6a8934bf",
        "colab": {
          "base_uri": "https://localhost:8080/"
        }
      },
      "outputs": [
        {
          "output_type": "execute_result",
          "data": {
            "text/plain": [
              "array([-1, -1, -1, -1, -1, -1, -1, -1, -1, -1, -1, -1, -1, -1, -1, -1, -1,\n",
              "       -1, -1, -1, -1, -1, -1, -1, -1, -1, -1, -1, -1, -1, -1, -1, -1, -1,\n",
              "       -1, -1, -1, -1, -1, -1, -1, -1, -1, -1, -1, -1, -1, -1, -1, -1,  1,\n",
              "        1,  1,  1,  1,  1,  1,  1,  1,  1,  1,  1,  1,  1,  1,  1,  1,  1,\n",
              "        1,  1,  1,  1,  1,  1,  1,  1,  1,  1,  1,  1,  1,  1,  1,  1,  1,\n",
              "        1,  1,  1,  1,  1,  1,  1,  1,  1,  1,  1,  1,  1,  1,  1])"
            ]
          },
          "metadata": {},
          "execution_count": 128
        }
      ],
      "source": [
        "y"
      ]
    },
    {
      "cell_type": "markdown",
      "source": [
        "## Get the input data"
      ],
      "metadata": {
        "id": "Gw2n99F1nFu2"
      }
    },
    {
      "cell_type": "code",
      "execution_count": null,
      "metadata": {
        "id": "Zj8C-cD_a5Hb"
      },
      "outputs": [],
      "source": [
        "### Inputs values\n",
        "Inputs = data.data"
      ]
    },
    {
      "cell_type": "code",
      "execution_count": null,
      "metadata": {
        "colab": {
          "base_uri": "https://localhost:8080/"
        },
        "id": "PMF4LKb_a5Hc",
        "outputId": "3ce190fa-e3f4-4013-c76f-8a3e0cc7127c"
      },
      "outputs": [
        {
          "output_type": "execute_result",
          "data": {
            "text/plain": [
              "(150, 4)"
            ]
          },
          "metadata": {},
          "execution_count": 130
        }
      ],
      "source": [
        "Inputs.shape"
      ]
    },
    {
      "cell_type": "markdown",
      "source": [
        "## for simplicity let's keep only two features (columns) (`sepal width` and  `petal width`)"
      ],
      "metadata": {
        "id": "5p9a21CA-V1l"
      }
    },
    {
      "cell_type": "code",
      "source": [
        "Inputs = np.hstack([Inputs[:, 1].reshape(-1, 1), Inputs[:, 3].reshape(-1, 1)])"
      ],
      "metadata": {
        "id": "IY4M5poQ6EcU"
      },
      "execution_count": null,
      "outputs": []
    },
    {
      "cell_type": "code",
      "source": [
        "Inputs[0]"
      ],
      "metadata": {
        "colab": {
          "base_uri": "https://localhost:8080/"
        },
        "id": "BfvL2AY17FPB",
        "outputId": "414228ba-62ce-4a4a-9f4c-2c3077e8f357"
      },
      "execution_count": null,
      "outputs": [
        {
          "output_type": "execute_result",
          "data": {
            "text/plain": [
              "array([3.5, 0.2])"
            ]
          },
          "metadata": {},
          "execution_count": 132
        }
      ]
    },
    {
      "cell_type": "markdown",
      "source": [
        "## Let's remove the last 50 rows in the inputs data (they belong to the class 2)"
      ],
      "metadata": {
        "id": "v5BsStFCniFJ"
      }
    },
    {
      "cell_type": "code",
      "execution_count": null,
      "metadata": {
        "id": "y3xruEHZa5Hc"
      },
      "outputs": [],
      "source": [
        "#### New Inputs\n",
        "\n",
        "X = Inputs[:100,:]"
      ]
    },
    {
      "cell_type": "code",
      "source": [
        "plt.scatter(X[:, 1], y)"
      ],
      "metadata": {
        "colab": {
          "base_uri": "https://localhost:8080/",
          "height": 303
        },
        "id": "AjWhFZH9BHyi",
        "outputId": "181af84c-e6aa-41ab-b200-038fbabbc086"
      },
      "execution_count": null,
      "outputs": [
        {
          "output_type": "execute_result",
          "data": {
            "text/plain": [
              "<matplotlib.collections.PathCollection at 0x7f36dd3c47f0>"
            ]
          },
          "metadata": {},
          "execution_count": 134
        },
        {
          "output_type": "display_data",
          "data": {
            "text/plain": [
              "<Figure size 432x288 with 1 Axes>"
            ],
            "image/png": "[encoded data removed]"
          },
          "metadata": {
            "needs_background": "light"
          }
        }
      ]
    },
    {
      "cell_type": "code",
      "execution_count": null,
      "metadata": {
        "id": "hDg4AQUza5Hd",
        "outputId": "d0b41164-3208-420f-bedb-8321d037c86e",
        "colab": {
          "base_uri": "https://localhost:8080/"
        }
      },
      "outputs": [
        {
          "output_type": "execute_result",
          "data": {
            "text/plain": [
              "(100, 2)"
            ]
          },
          "metadata": {},
          "execution_count": 135
        }
      ],
      "source": [
        "X.shape"
      ]
    },
    {
      "cell_type": "markdown",
      "source": [
        "## Combines the dataset and Shuffle them using numpy"
      ],
      "metadata": {
        "id": "ZvYJOFgxnuD6"
      }
    },
    {
      "cell_type": "code",
      "execution_count": null,
      "metadata": {
        "id": "-2LXYdI4a5Hd"
      },
      "outputs": [],
      "source": [
        "### Combines the dataset and Shuffle them\n",
        "\n",
        "dataset = np.hstack((X,y.reshape(-1,1)))\n"
      ]
    },
    {
      "cell_type": "code",
      "source": [
        "dataset[0]"
      ],
      "metadata": {
        "colab": {
          "base_uri": "https://localhost:8080/"
        },
        "id": "3EIUzEvA7ffe",
        "outputId": "dfa982ca-f297-4c56-f14b-15fdfec43e74"
      },
      "execution_count": null,
      "outputs": [
        {
          "output_type": "execute_result",
          "data": {
            "text/plain": [
              "array([ 3.5,  0.2, -1. ])"
            ]
          },
          "metadata": {},
          "execution_count": 137
        }
      ]
    },
    {
      "cell_type": "code",
      "execution_count": null,
      "metadata": {
        "id": "Lz55VlPwa5Hd"
      },
      "outputs": [],
      "source": [
        "n,_=dataset.shape"
      ]
    },
    {
      "cell_type": "code",
      "execution_count": null,
      "metadata": {
        "id": "YTxsELH1a5He"
      },
      "outputs": [],
      "source": [
        "#### Shuffle the dataset and split\n",
        "perm_index = np.random.permutation(n)\n",
        "\n",
        "dataset_ = dataset[perm_index]\n",
        "\n",
        "p = 0.8\n",
        "\n",
        "X_train, Y_train = dataset_[:round(n*p), :-1], dataset_[:round(n*p), -1]\n",
        "X_test, Y_test = dataset_[round(n*p):, :-1], dataset_[round(n*p):, -1]"
      ]
    },
    {
      "cell_type": "code",
      "execution_count": null,
      "metadata": {
        "id": "f2SrQK0ra5He",
        "outputId": "47eca4dd-0e5d-45b1-863c-ca23ab5ccd8a",
        "colab": {
          "base_uri": "https://localhost:8080/"
        }
      },
      "outputs": [
        {
          "output_type": "stream",
          "name": "stdout",
          "text": [
            "(80, 2) (20, 2)\n"
          ]
        }
      ],
      "source": [
        "print(X_train.shape, X_test.shape)"
      ]
    },
    {
      "cell_type": "code",
      "source": [
        "X_train"
      ],
      "metadata": {
        "colab": {
          "base_uri": "https://localhost:8080/"
        },
        "id": "ZJlGMYdTBFn1",
        "outputId": "0ef4dea3-f6e8-4187-a7bf-afc4c8ba2099"
      },
      "execution_count": null,
      "outputs": [
        {
          "output_type": "execute_result",
          "data": {
            "text/plain": [
              "array([[3. , 1.5],\n",
              "       [3. , 1.3],\n",
              "       [4. , 0.2],\n",
              "       [2.6, 1.2],\n",
              "       [3. , 1.2],\n",
              "       [3.4, 0.2],\n",
              "       [2.4, 1. ],\n",
              "       [2.7, 1.3],\n",
              "       [3. , 0.2],\n",
              "       [3. , 0.2],\n",
              "       [2.8, 1.5],\n",
              "       [3.9, 0.4],\n",
              "       [2.3, 0.3],\n",
              "       [3.4, 0.3],\n",
              "       [4.4, 0.4],\n",
              "       [2.4, 1. ],\n",
              "       [3.2, 0.2],\n",
              "       [3.5, 0.2],\n",
              "       [3.9, 0.4],\n",
              "       [3.4, 0.2],\n",
              "       [2.7, 1.2],\n",
              "       [3.1, 1.5],\n",
              "       [2.4, 1.1],\n",
              "       [3.5, 0.3],\n",
              "       [2.5, 1.5],\n",
              "       [2.8, 1.4],\n",
              "       [2.3, 1.3],\n",
              "       [2.9, 1.3],\n",
              "       [3.3, 1.6],\n",
              "       [2.3, 1. ],\n",
              "       [4.1, 0.1],\n",
              "       [2.9, 1.3],\n",
              "       [2.6, 1.2],\n",
              "       [3.4, 1.6],\n",
              "       [3.8, 0.3],\n",
              "       [3. , 1.4],\n",
              "       [3. , 1.5],\n",
              "       [3.4, 0.2],\n",
              "       [2.2, 1.5],\n",
              "       [3.1, 0.2],\n",
              "       [3.7, 0.2],\n",
              "       [3. , 0.1],\n",
              "       [3.8, 0.3],\n",
              "       [2.7, 1.6],\n",
              "       [3. , 1.7],\n",
              "       [3.2, 1.4],\n",
              "       [3.2, 0.2],\n",
              "       [2.8, 1.3],\n",
              "       [3.4, 0.4],\n",
              "       [2. , 1. ],\n",
              "       [2.9, 0.2],\n",
              "       [3.7, 0.4],\n",
              "       [2.8, 1.2],\n",
              "       [4.2, 0.2],\n",
              "       [3.2, 0.2],\n",
              "       [2.5, 1.3],\n",
              "       [3.4, 0.2],\n",
              "       [3.6, 0.2],\n",
              "       [3.2, 1.5],\n",
              "       [3.2, 0.2],\n",
              "       [2.2, 1. ],\n",
              "       [2.6, 1. ],\n",
              "       [3.8, 0.4],\n",
              "       [3.2, 1.8],\n",
              "       [2.7, 1. ],\n",
              "       [3.4, 0.2],\n",
              "       [2.8, 1.3],\n",
              "       [3.5, 0.3],\n",
              "       [3. , 0.1],\n",
              "       [3.1, 0.2],\n",
              "       [3.1, 0.2],\n",
              "       [3. , 1.5],\n",
              "       [2.9, 1.3],\n",
              "       [3.7, 0.2],\n",
              "       [2.5, 1.1],\n",
              "       [3. , 0.3],\n",
              "       [2.3, 1.3],\n",
              "       [3.4, 0.4],\n",
              "       [2.7, 1.4],\n",
              "       [3.3, 0.5]])"
            ]
          },
          "metadata": {},
          "execution_count": 141
        }
      ]
    },
    {
      "cell_type": "code",
      "execution_count": null,
      "metadata": {
        "id": "LQdFxmC4a5Hf",
        "outputId": "2f572941-e2c7-4cf4-e534-c99f9c2fbd24",
        "colab": {
          "base_uri": "https://localhost:8080/"
        }
      },
      "outputs": [
        {
          "output_type": "stream",
          "name": "stdout",
          "text": [
            "(80,)\n",
            "(20, 2)\n",
            "(20,)\n"
          ]
        }
      ],
      "source": [
        "print(Y_train.shape)\n",
        "print(X_test.shape)\n",
        "print(Y_test.shape)"
      ]
    },
    {
      "cell_type": "code",
      "execution_count": null,
      "metadata": {
        "id": "Fi4m35Q6a5Hh"
      },
      "outputs": [],
      "source": [
        "class perceptron:\n",
        "    \n",
        "    eps = 1e-5\n",
        "    def __init__(self,theta,iter_= 2):\n",
        "        self.iter_ = iter_\n",
        "        self.theta = theta\n",
        "        \n",
        "        \n",
        "    def train(self, X, y):\n",
        "      n,_= X.shape\n",
        "        ## your code here\n",
        "      \n",
        "      for i in range(self.iter_):\n",
        "        for j in range(n):\n",
        "          ypred = np.sign(self.theta.T@X[j])\n",
        "          if y[j]*ypred < 0:\n",
        "            self.theta = self.theta + X[j]*y[j]\n",
        "          else :\n",
        "            self.theta = self.theta\n",
        "        #return self.theta\n",
        "        \n",
        "                    \n",
        "    # def train_(self, X, y):\n",
        "    #     n,_= X.shape\n",
        "    #     while True:\n",
        "    #       ## add your code here\n",
        "    #       pass\n",
        "    #     return self.theta  \n",
        "    \n",
        "    def predict(self,X):\n",
        "      return np.sign(X@self.theta)\n",
        "    \n",
        "    def accuracy(self,X,Y):\n",
        "    #ypred = X@self.theta\n",
        "      ypred = self.predict(X)\n",
        "      return (sum(ypred==Y)*100)/len(Y)\n",
        "        \n",
        "    \n",
        "\n",
        "            "
      ]
    },
    {
      "cell_type": "markdown",
      "source": [
        "## Instanciate a new perceptron model and train it"
      ],
      "metadata": {
        "id": "4BHC2mtA8Fca"
      }
    },
    {
      "cell_type": "code",
      "execution_count": null,
      "metadata": {
        "id": "wcwMg-Jga5Hi"
      },
      "outputs": [],
      "source": [
        "theta = np.random.rand(2)*1e-4\n",
        "perc = perceptron(theta)"
      ]
    },
    {
      "cell_type": "code",
      "execution_count": null,
      "metadata": {
        "id": "mcNFxej0a5Hi",
        "outputId": "936123c7-e9ee-4ba7-fd4b-eb88eb63c487",
        "colab": {
          "base_uri": "https://localhost:8080/"
        }
      },
      "outputs": [
        {
          "output_type": "execute_result",
          "data": {
            "text/plain": [
              "array([2.10975505e-06, 9.55397140e-05])"
            ]
          },
          "metadata": {},
          "execution_count": 232
        }
      ],
      "source": [
        "perc.theta"
      ]
    },
    {
      "cell_type": "code",
      "execution_count": null,
      "metadata": {
        "id": "jZquZaUva5Hj"
      },
      "outputs": [],
      "source": [
        "perc.train(X_train, Y_train)"
      ]
    },
    {
      "cell_type": "code",
      "source": [
        "perc.theta"
      ],
      "metadata": {
        "colab": {
          "base_uri": "https://localhost:8080/"
        },
        "id": "2Ahsc_l-mn0e",
        "outputId": "ea5dd45e-0c4f-4ebb-c3f0-908dbce87041"
      },
      "execution_count": null,
      "outputs": [
        {
          "output_type": "execute_result",
          "data": {
            "text/plain": [
              "array([-1.09999789,  4.90009554])"
            ]
          },
          "metadata": {},
          "execution_count": 234
        }
      ]
    },
    {
      "cell_type": "code",
      "source": [
        "slope = - perc.theta[0]/perc.theta[1]\n",
        "min = np.amin(X_train[:, 0])\n",
        "max = np.amax(X_train[:, 0])\n",
        "\n",
        "x1 = [min, max]\n",
        "x2 = [slope*min , slope*max]\n",
        "plt.scatter(X_train[:,0], X_train[:, 1], marker=\"o\", c=Y_train)\n",
        "plt.plot(x1, x2)"
      ],
      "metadata": {
        "colab": {
          "base_uri": "https://localhost:8080/",
          "height": 303
        },
        "id": "1jv9z607rMri",
        "outputId": "1db14bdf-aff5-4a16-9b73-e59e3d876e3d"
      },
      "execution_count": null,
      "outputs": [
        {
          "output_type": "execute_result",
          "data": {
            "text/plain": [
              "[<matplotlib.lines.Line2D at 0x7f36dcdcce50>]"
            ]
          },
          "metadata": {},
          "execution_count": 235
        },
        {
          "output_type": "display_data",
          "data": {
            "text/plain": [
              "<Figure size 432x288 with 1 Axes>"
            ],
            "image/png": "[encoded data removed]"
          },
          "metadata": {
            "needs_background": "light"
          }
        }
      ]
    },
    {
      "cell_type": "markdown",
      "source": [
        "## let's evaluate the model on the training data"
      ],
      "metadata": {
        "id": "Yw0cu87c8lwU"
      }
    },
    {
      "cell_type": "code",
      "execution_count": null,
      "metadata": {
        "id": "mrNV3LiUa5Hk",
        "outputId": "52d15803-684a-4567-89eb-f11a2bf19aeb",
        "colab": {
          "base_uri": "https://localhost:8080/"
        }
      },
      "outputs": [
        {
          "output_type": "execute_result",
          "data": {
            "text/plain": [
              "array([-1., -1.,  1.,  1., -1., -1.,  1., -1.,  1., -1.,  1., -1.,  1.,\n",
              "       -1., -1.,  1., -1., -1.,  1.,  1.])"
            ]
          },
          "metadata": {},
          "execution_count": 236
        }
      ],
      "source": [
        "perc.predict(X_test)"
      ]
    },
    {
      "cell_type": "code",
      "source": [
        "slope = - perc.theta[0]/perc.theta[1]\n",
        "min = np.amin(X_test[:, 0])\n",
        "max = np.amax(X_test[:, 0])\n",
        "\n",
        "\n",
        "x1 = [min, max]\n",
        "x2 = [slope*min , slope*max]\n",
        "plt.scatter(X_test[:,0], X_test[:, 1], marker=\"o\", c=Y_test)\n",
        "plt.plot(x1, x2)"
      ],
      "metadata": {
        "colab": {
          "base_uri": "https://localhost:8080/",
          "height": 303
        },
        "id": "FCVy-2CP87Ki",
        "outputId": "dff169b3-3425-4e52-8ea0-04a199d56696"
      },
      "execution_count": null,
      "outputs": [
        {
          "output_type": "execute_result",
          "data": {
            "text/plain": [
              "[<matplotlib.lines.Line2D at 0x7f36dcd26c10>]"
            ]
          },
          "metadata": {},
          "execution_count": 237
        },
        {
          "output_type": "display_data",
          "data": {
            "text/plain": [
              "<Figure size 432x288 with 1 Axes>"
            ],
            "image/png": "[encoded data removed]"
          },
          "metadata": {
            "needs_background": "light"
          }
        }
      ]
    },
    {
      "cell_type": "code",
      "execution_count": null,
      "metadata": {
        "id": "M_CL5aBBa5Hk",
        "outputId": "47f97425-8e14-4145-c3e0-6bc3dff8f6c8",
        "colab": {
          "base_uri": "https://localhost:8080/"
        }
      },
      "outputs": [
        {
          "output_type": "execute_result",
          "data": {
            "text/plain": [
              "100.0"
            ]
          },
          "metadata": {},
          "execution_count": 238
        }
      ],
      "source": [
        "perc.accuracy(X_test, Y_test)"
      ]
    },
    {
      "cell_type": "code",
      "source": [],
      "metadata": {
        "id": "f0uOaofjwfkd"
      },
      "execution_count": null,
      "outputs": []
    }
  ],
  "metadata": {
    "kernelspec": {
      "display_name": "Python 3",
      "language": "python",
      "name": "python3"
    },
    "language_info": {
      "codemirror_mode": {
        "name": "ipython",
        "version": 3
      },
      "file_extension": ".py",
      "mimetype": "text/x-python",
      "name": "python",
      "nbconvert_exporter": "python",
      "pygments_lexer": "ipython3",
      "version": "3.8.5"
    },
    "colab": {
      "provenance": [],
      "include_colab_link": true
    }
  },
  "nbformat": 4,
  "nbformat_minor": 0
}